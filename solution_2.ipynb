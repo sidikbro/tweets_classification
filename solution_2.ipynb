{
 "cells": [
  {
   "cell_type": "code",
   "execution_count": 1,
   "metadata": {},
   "outputs": [],
   "source": [
    "import pandas as pd\n",
    "import matplotlib.pyplot as plt\n",
    "import seaborn as sns\n",
    "\n",
    "%matplotlib inline"
   ]
  },
  {
   "cell_type": "code",
   "execution_count": 3,
   "metadata": {},
   "outputs": [],
   "source": [
    "#Load data\n",
    "df = pd.read_csv('tweets_dataset_ex2_2.csv', index_col='id', dtype={'id':str})"
   ]
  },
  {
   "cell_type": "markdown",
   "metadata": {},
   "source": [
    "# Part One: Analysis, and Pre-processing"
   ]
  },
  {
   "cell_type": "code",
   "execution_count": 4,
   "metadata": {},
   "outputs": [
    {
     "data": {
      "text/plain": [
       "['Hillary Clinton proposes plan to address mental health treatment https://t.co/C7BLynIroF https://t.co/CWhvxE6Cxm',\n",
       " 'Joe and Hillary went home to Scranton. Take a behind-the-scenes look at their visit: https://t.co/xdiqa0dbdP',\n",
       " 'Mi México, and the world, lost a great singer, songwriter and human being. #RIP #JuanGabriel. #DivoDeJuarez https://t.co/EkZ7eduRfA',\n",
       " \"Back when she was New York's senator, @HillaryClinton fought political attacks on access to emergency contraception: https://t.co/YEhvJjyQBP\",\n",
       " '53 years ago today, we Marched on Washington for Jobs and Freedom. #GoodTrouble https://t.co/KO3YzpjuZG',\n",
       " 'Poll: @realDonaldTrump vs. @HillaryClinton among white Evangelicals. https://t.co/6ohwIh1Q24',\n",
       " \"Hate is not welcome in our homes. We shouldn't welcome it into the White House. #StrongerTogether https://t.co/B3sK5KpiQ4\",\n",
       " \"A must read today: The NYT digs deep into Donald Trump and his father's history of denying housing to blacks. https://t.co/c5GxvRQkQJ\",\n",
       " 'If Trump doesn’t see all Americans or respect all Americans, how can he serve all Americans? #StrongerTogether https://t.co/SDvVDRhC0e',\n",
       " \"It's Women's Equality Day. Donald Trump can't say he treats women with respect https://t.co/Rq8TFnXNev\",\n",
       " \"Nearly 100 years ago, women broke down barriers to the ballot box, moving us closer to a more equal nation. Let's finish what they started.\",\n",
       " '\"human rights are women’s rights &amp; women’s rights are human rights.\" - @HillaryClinton #WomensEqualityDay 👸🏽👸🏿👸🏻👸🏾👸🏼 https://t.co/gxD9wF8iwt',\n",
       " '.@HillaryClinton: From the start, Trump has built his campaign on prejudice and paranoia https://t.co/7iAKFenZLo',\n",
       " 'Enjoying a quiet moment at @GrandTetonNPS back in 1995.\\n\\nHappy #NPS100! https://t.co/of8cMaj8mR',\n",
       " \"Let this sink in. To hate groups, Trump's language doesn't come across as coded. https://t.co/oHFFVRgGG5\",\n",
       " \"America's best idea 100 years ago is still our best idea today. Happy birthday to the @NatlParkService. #NPS100 https://t.co/0u7krunyLl\",\n",
       " \"What's your volunteer personality type? Take our quiz for personalized recommendations on how to help elect Hillary: https://t.co/c09Vh2rnFd\",\n",
       " '.@hillaryclinton announced a new public health fund to fight pandemics like Zika and keep American families safe https://t.co/RGXoMAkLmr',\n",
       " 'Before @ClintinFdn, 200K people with HIV AIDS in poor countries got lifesaving anti-retroviral meds. Because of @ClintonFdn, 11.5M do now.',\n",
       " \"We're going to fight for the ACA so kids like Jude aren't ever turned away because of a pre-existing condition.\\nhttps://t.co/63ObIFmp84\"]"
      ]
     },
     "execution_count": 4,
     "metadata": {},
     "output_type": "execute_result"
    }
   ],
   "source": [
    "df[df.is_retweet == 'True'].text.tolist()[:20]"
   ]
  },
  {
   "cell_type": "markdown",
   "metadata": {},
   "source": [
    "As we can see most of the texts which marked as 'is_retweet' are written in third person. Therefore, we can use this as additional class in order to train the model for three classes: Trump, Hillary or fake."
   ]
  },
  {
   "cell_type": "code",
   "execution_count": 5,
   "metadata": {},
   "outputs": [
    {
     "name": "stdout",
     "output_type": "stream",
     "text": [
      "<class 'pandas.core.frame.DataFrame'>\n",
      "Float64Index: 1998 entries, 7.7041469386965e+17 to 7.49721116911034e+17\n",
      "Data columns (total 29 columns):\n",
      " #   Column                   Non-Null Count  Dtype  \n",
      "---  ------                   --------------  -----  \n",
      " 0   Unnamed: 0               1998 non-null   int64  \n",
      " 1   handle                   1998 non-null   object \n",
      " 2   text                     1998 non-null   object \n",
      " 3   is_retweet               1998 non-null   object \n",
      " 4   original_author          304 non-null    object \n",
      " 5   time                     1980 non-null   object \n",
      " 6   in_reply_to_screen_name  49 non-null     object \n",
      " 7   in_reply_to_status_id    25 non-null     object \n",
      " 8   in_reply_to_user_id      24 non-null     float64\n",
      " 9   is_quote_status          1973 non-null   object \n",
      " 10  lang                     1996 non-null   object \n",
      " 11  retweet_count            1998 non-null   object \n",
      " 12  favorite_count           1998 non-null   object \n",
      " 13  longitude                29 non-null     float64\n",
      " 14  latitude                 5 non-null      float64\n",
      " 15  place_id                 65 non-null     object \n",
      " 16  place_full_name          67 non-null     object \n",
      " 17  place_name               67 non-null     object \n",
      " 18  place_type               67 non-null     object \n",
      " 19  place_country_code       67 non-null     object \n",
      " 20  place_country            67 non-null     object \n",
      " 21  place_contained_within   67 non-null     object \n",
      " 22  place_attributes         67 non-null     object \n",
      " 23  place_bounding_box       67 non-null     object \n",
      " 24  source_url               1974 non-null   object \n",
      " 25  truncated                1996 non-null   object \n",
      " 26  entities                 1998 non-null   object \n",
      " 27  extended_entities        401 non-null    object \n",
      " 28  Unnamed: 28              5 non-null      object \n",
      "dtypes: float64(3), int64(1), object(25)\n",
      "memory usage: 468.3+ KB\n"
     ]
    }
   ],
   "source": [
    "df.info()"
   ]
  },
  {
   "cell_type": "markdown",
   "metadata": {},
   "source": [
    "We can see that there are many columns with missing data. (missing more then 50%)"
   ]
  },
  {
   "cell_type": "code",
   "execution_count": 6,
   "metadata": {},
   "outputs": [],
   "source": [
    "#Lets remove columns with large number of missing and not 'informative' data.\n",
    "df = df.drop(columns=['longitude', 'latitude', 'place_id','in_reply_to_screen_name', 'in_reply_to_status_id',\n",
    "       'in_reply_to_user_id',\n",
    "       'place_full_name', 'place_name', 'place_type', 'place_country_code',\n",
    "       'place_country', 'place_contained_within', 'place_attributes',\n",
    "       'place_bounding_box','original_author','truncated','extended_entities'])"
   ]
  },
  {
   "cell_type": "code",
   "execution_count": 7,
   "metadata": {},
   "outputs": [
    {
     "name": "stdout",
     "output_type": "stream",
     "text": [
      "Number of unique values 2\n",
      "Unique values are: ['realDonaldTrump' 'HillaryClinton']\n",
      "\n",
      "\n",
      "Number of unique values 4\n",
      "Unique values are: ['en' 'und' nan 'False' 'es']\n",
      "\n",
      "\n",
      "Number of unique values 7\n",
      "Unique values are: ['http://twitter.com/download/iphone' 'http://twitter.com'\n",
      " 'https://about.twitter.com/products/tweetdeck'\n",
      " 'http://twitter.com/#!/download/ipad' nan\n",
      " 'http://twitter.com/download/android'\n",
      " \"BoundingBox(type='Polygon', coordinates=[[[-105.109815, 39.614151], [-104.734372, 39.614151], [-104.734372, 39.812975], [-105.109815, 39.812975]]], _api=<tweepy.api.API object at 0x7f013ae30588>)\"\n",
      " \"BoundingBox(type='Polygon', coordinates=[[[-104.910562, 38.741142], [-104.668092, 38.741142], [-104.668092, 39.035895], [-104.910562, 39.035895]]], _api=<tweepy.api.API object at 0x7f013ae30588>)\"]\n",
      "\n",
      "\n"
     ]
    }
   ],
   "source": [
    "#Analyse columns\n",
    "def analyze_column(col):\n",
    "    print(\"Number of unique values {0}\".format(col.nunique()))\n",
    "    print(\"Unique values are: {0}\".format(col.unique()))\n",
    "    print(\"\\n\")\n",
    "    \n",
    "analyze_column(df.handle)\n",
    "analyze_column(df.lang)\n",
    "analyze_column(df.source_url)"
   ]
  },
  {
   "cell_type": "markdown",
   "metadata": {},
   "source": [
    "As we can see there are there are: 2 Users (as expected); 7 different languages which features can  mislead us; 10 different sources used"
   ]
  },
  {
   "cell_type": "code",
   "execution_count": 8,
   "metadata": {},
   "outputs": [],
   "source": [
    "#remove all non english rows\n",
    "df = df[df.lang=='en']\n",
    "\n",
    "#Get the length of the tweets\n",
    "df['text_len'] = df.text.apply(len)"
   ]
  },
  {
   "cell_type": "code",
   "execution_count": 9,
   "metadata": {},
   "outputs": [
    {
     "data": {
      "text/plain": [
       "<seaborn.axisgrid.FacetGrid at 0x7f6365138cc0>"
      ]
     },
     "execution_count": 9,
     "metadata": {},
     "output_type": "execute_result"
    },
    {
     "data": {
      "image/png": "[encoded data removed]",
      "text/plain": [
       "<Figure size 432x216 with 2 Axes>"
      ]
     },
     "metadata": {
      "needs_background": "light"
     },
     "output_type": "display_data"
    }
   ],
   "source": [
    "#plot the histogram of the text length\n",
    "grid = sns.FacetGrid(df,col='is_retweet')\n",
    "grid.map(plt.hist,'text_len')"
   ]
  },
  {
   "cell_type": "markdown",
   "metadata": {},
   "source": [
    "As we can see the length of the retweeted tweets is shorter."
   ]
  },
  {
   "cell_type": "code",
   "execution_count": 10,
   "metadata": {},
   "outputs": [
    {
     "name": "stderr",
     "output_type": "stream",
     "text": [
      "/home/slavik/anaconda3/envs/tf2/lib/python3.6/site-packages/ipykernel_launcher.py:2: SettingWithCopyWarning: \n",
      "A value is trying to be set on a copy of a slice from a DataFrame\n",
      "\n",
      "See the caveats in the documentation: https://pandas.pydata.org/pandas-docs/stable/user_guide/indexing.html#returning-a-view-versus-a-copy\n",
      "  \n"
     ]
    }
   ],
   "source": [
    "#Set handle field all rows with 'is_retweet' \n",
    "df.handle[df.is_retweet == 'True'] = 'fake'"
   ]
  },
  {
   "cell_type": "code",
   "execution_count": 11,
   "metadata": {},
   "outputs": [
    {
     "data": {
      "text/plain": [
       "<matplotlib.axes._subplots.AxesSubplot at 0x7f63630c9ba8>"
      ]
     },
     "execution_count": 11,
     "metadata": {},
     "output_type": "execute_result"
    },
    {
     "data": {
      "image/png": "[encoded data removed]",
      "text/plain": [
       "<Figure size 432x288 with 1 Axes>"
      ]
     },
     "metadata": {
      "needs_background": "light"
     },
     "output_type": "display_data"
    }
   ],
   "source": [
    "sns.boxplot(x='handle',y='text_len',data=df)"
   ]
  },
  {
   "cell_type": "code",
   "execution_count": 12,
   "metadata": {},
   "outputs": [
    {
     "data": {
      "text/plain": [
       "<seaborn.axisgrid.FacetGrid at 0x7f6363061c88>"
      ]
     },
     "execution_count": 12,
     "metadata": {},
     "output_type": "execute_result"
    },
    {
     "data": {
      "image/png": "[encoded data removed]",
      "text/plain": [
       "<Figure size 432x216 with 2 Axes>"
      ]
     },
     "metadata": {
      "needs_background": "light"
     },
     "output_type": "display_data"
    }
   ],
   "source": [
    "#plot the histogram of the text length\n",
    "grid = sns.FacetGrid(df,col='is_retweet')\n",
    "grid.map(plt.hist,'retweet_count')"
   ]
  },
  {
   "cell_type": "code",
   "execution_count": 13,
   "metadata": {},
   "outputs": [
    {
     "data": {
      "text/plain": [
       "<seaborn.axisgrid.FacetGrid at 0x7f6362f76d30>"
      ]
     },
     "execution_count": 13,
     "metadata": {},
     "output_type": "execute_result"
    },
    {
     "data": {
      "image/png": "[encoded data removed]",
      "text/plain": [
       "<Figure size 432x216 with 2 Axes>"
      ]
     },
     "metadata": {
      "needs_background": "light"
     },
     "output_type": "display_data"
    }
   ],
   "source": [
    "#plot the histogram of the text length\n",
    "grid = sns.FacetGrid(df,col='is_retweet')\n",
    "grid.map(plt.hist,'favorite_count')"
   ]
  },
  {
   "cell_type": "markdown",
   "metadata": {},
   "source": [
    "as we can see the number of 'favorite_count' and 'retweet_count' at tweets are larger then in retweets."
   ]
  },
  {
   "cell_type": "code",
   "execution_count": 14,
   "metadata": {},
   "outputs": [
    {
     "data": {
      "text/plain": [
       "<seaborn.axisgrid.FacetGrid at 0x7f63624ecb38>"
      ]
     },
     "execution_count": 14,
     "metadata": {},
     "output_type": "execute_result"
    },
    {
     "data": {
      "image/png": "[encoded data removed]",
      "text/plain": [
       "<Figure size 432x216 with 2 Axes>"
      ]
     },
     "metadata": {
      "needs_background": "light"
     },
     "output_type": "display_data"
    }
   ],
   "source": [
    "id_lst = range(0, df.source_url.nunique())\n",
    "df_tmp = pd.DataFrame({'source_url': df.source_url.unique(), 'source_id' : id_lst})\n",
    "df_final = pd.merge(df, df_tmp, how='left', on=['source_url'])\n",
    "# del df, df_tmp\n",
    "\n",
    "#plot the histogram of the text length\n",
    "grid = sns.FacetGrid(df_final,col='is_retweet')\n",
    "grid.map(plt.hist,'source_id')"
   ]
  },
  {
   "cell_type": "code",
   "execution_count": 15,
   "metadata": {},
   "outputs": [
    {
     "data": {
      "text/html": [
       "<div>\n",
       "<style scoped>\n",
       "    .dataframe tbody tr th:only-of-type {\n",
       "        vertical-align: middle;\n",
       "    }\n",
       "\n",
       "    .dataframe tbody tr th {\n",
       "        vertical-align: top;\n",
       "    }\n",
       "\n",
       "    .dataframe thead th {\n",
       "        text-align: right;\n",
       "    }\n",
       "</style>\n",
       "<table border=\"1\" class=\"dataframe\">\n",
       "  <thead>\n",
       "    <tr style=\"text-align: right;\">\n",
       "      <th></th>\n",
       "      <th>source_url</th>\n",
       "      <th>source_id</th>\n",
       "    </tr>\n",
       "  </thead>\n",
       "  <tbody>\n",
       "    <tr>\n",
       "      <th>0</th>\n",
       "      <td>http://twitter.com/download/iphone</td>\n",
       "      <td>0</td>\n",
       "    </tr>\n",
       "    <tr>\n",
       "      <th>1</th>\n",
       "      <td>http://twitter.com</td>\n",
       "      <td>1</td>\n",
       "    </tr>\n",
       "    <tr>\n",
       "      <th>2</th>\n",
       "      <td>https://about.twitter.com/products/tweetdeck</td>\n",
       "      <td>2</td>\n",
       "    </tr>\n",
       "    <tr>\n",
       "      <th>3</th>\n",
       "      <td>http://twitter.com/#!/download/ipad</td>\n",
       "      <td>3</td>\n",
       "    </tr>\n",
       "    <tr>\n",
       "      <th>4</th>\n",
       "      <td>http://twitter.com/download/android</td>\n",
       "      <td>4</td>\n",
       "    </tr>\n",
       "  </tbody>\n",
       "</table>\n",
       "</div>"
      ],
      "text/plain": [
       "                                     source_url  source_id\n",
       "0            http://twitter.com/download/iphone          0\n",
       "1                            http://twitter.com          1\n",
       "2  https://about.twitter.com/products/tweetdeck          2\n",
       "3           http://twitter.com/#!/download/ipad          3\n",
       "4           http://twitter.com/download/android          4"
      ]
     },
     "execution_count": 15,
     "metadata": {},
     "output_type": "execute_result"
    }
   ],
   "source": [
    "df_tmp"
   ]
  },
  {
   "cell_type": "markdown",
   "metadata": {},
   "source": [
    "The 'source url' field show us that there are defferent sources of tweets. (iphone, ipad, android, api, mobile) "
   ]
  },
  {
   "cell_type": "code",
   "execution_count": 16,
   "metadata": {},
   "outputs": [
    {
     "data": {
      "text/plain": [
       "<matplotlib.axes._subplots.AxesSubplot at 0x7f63622fbda0>"
      ]
     },
     "execution_count": 16,
     "metadata": {},
     "output_type": "execute_result"
    },
    {
     "data": {
      "image/png": "[encoded data removed]",
      "text/plain": [
       "<Figure size 432x288 with 1 Axes>"
      ]
     },
     "metadata": {
      "needs_background": "light"
     },
     "output_type": "display_data"
    }
   ],
   "source": [
    "#number of tweets by 'handle'\n",
    "sns.countplot(x=\"handle\", data=df)"
   ]
  },
  {
   "cell_type": "markdown",
   "metadata": {},
   "source": [
    "The data isn't very balanced, but accuracy paradox shouldn't be an issue, but at any case we rely more on f1 score, precision and recall. "
   ]
  },
  {
   "cell_type": "markdown",
   "metadata": {},
   "source": [
    "# Models"
   ]
  },
  {
   "cell_type": "code",
   "execution_count": 17,
   "metadata": {},
   "outputs": [],
   "source": [
    "import numpy as np\n",
    "import xgboost\n",
    "\n",
    "import scikitplot as skplt\n",
    "from sklearn.compose import ColumnTransformer\n",
    "from sklearn.preprocessing import StandardScaler, MinMaxScaler\n",
    "from sklearn.preprocessing import MinMaxScaler\n",
    "from sklearn.model_selection import train_test_split\n",
    "from sklearn.metrics import accuracy_score\n",
    "from sklearn.naive_bayes import MultinomialNB\n",
    "from sklearn.metrics import confusion_matrix,classification_report\n",
    "\n",
    "import tensorflow as tf\n",
    "import tensorflow_hub as hub"
   ]
  },
  {
   "cell_type": "code",
   "execution_count": 18,
   "metadata": {},
   "outputs": [],
   "source": [
    "#Recieve real and predicted data, returm all classification metrics \n",
    "def get_report(real_data, predicted):\n",
    "    conf_mat = confusion_matrix(real_data, predicted)\n",
    "    class_report = classification_report(real_data, predicted)\n",
    "    accuracy = accuracy_score(y_test, predictions)\n",
    "    \n",
    "    return conf_mat, class_report, accuracy"
   ]
  },
  {
   "cell_type": "code",
   "execution_count": 23,
   "metadata": {},
   "outputs": [],
   "source": [
    "#Draw confusion matrix\n",
    "def plot_confusion(real_data, predicted):\n",
    "    skplt.metrics.plot_confusion_matrix(y_test, predicted, normalize=True)\n",
    "    plt.show()\n",
    "\n",
    "#Plot precision recall curve\n",
    "def plot_precision_recall(real_data, predicted):\n",
    "    x = np.column_stack((1-predicted, predicted))\n",
    "    skplt.metrics.plot_precision_recall_curve(y_test, x)\n",
    "    plt.show()\n",
    "    \n",
    "#Plot ROC curve\n",
    "def plot_roc(real_data, predicted):\n",
    "    x = np.column_stack((1-predicted, predicted))\n",
    "    skplt.metrics.plot_roc_curve(y_test, x)\n",
    "    plt.show()"
   ]
  },
  {
   "cell_type": "code",
   "execution_count": 20,
   "metadata": {},
   "outputs": [],
   "source": [
    "from sklearn import preprocessing"
   ]
  },
  {
   "cell_type": "code",
   "execution_count": 21,
   "metadata": {},
   "outputs": [],
   "source": [
    "le = preprocessing.LabelEncoder()\n",
    "le.fit(df.handle)\n",
    "target = le.transform(df.handle)"
   ]
  },
  {
   "cell_type": "code",
   "execution_count": 22,
   "metadata": {},
   "outputs": [
    {
     "name": "stdout",
     "output_type": "stream",
     "text": [
      "module https://tfhub.dev/google/universal-sentence-encoder/4 loaded\n"
     ]
    }
   ],
   "source": [
    "col_names = ['retweet_count', 'favorite_count', 'text_len', 'source_id']\n",
    "col_to_scal = ['retweet_count', 'favorite_count', 'text_len']\n",
    "\n",
    "def process_features(data):\n",
    "    features = df_final[col_names]\n",
    "    ct = ColumnTransformer([('exOne', MinMaxScaler(), col_to_scal)], remainder='passthrough')\n",
    "    \n",
    "    return ct.fit_transform(features)\n",
    "\n",
    "\n",
    "\n",
    "module_url = \"https://tfhub.dev/google/universal-sentence-encoder/4\" #\"https://tfhub.dev/google/universal-sentence-encoder-large/5\"]\n",
    "model_uge = hub.load(module_url)\n",
    "print (\"module %s loaded\" % module_url)\n",
    "\n",
    "def embed(input):\n",
    "    return model_uge(input)\n",
    "\n",
    "def get_textual_feat(data):\n",
    "    txt_lst = data.text.tolist()\n",
    "    embed_lst = embed(txt_lst)\n",
    "    embed_data = np.array(embed_lst)\n",
    "    scaler = MinMaxScaler()\n",
    "    scaler.fit(embed_data)\n",
    "    \n",
    "    return scaler.transform(embed_data[::1])"
   ]
  },
  {
   "cell_type": "markdown",
   "metadata": {},
   "source": [
    "# Lets begin without textual features:"
   ]
  },
  {
   "cell_type": "code",
   "execution_count": 24,
   "metadata": {},
   "outputs": [],
   "source": [
    "in_data = process_features(df_final)\n",
    "# target = np.array(df_final.hand_id.tolist())\n",
    "\n",
    "X_train, X_test, y_train, y_test = train_test_split(in_data, target,test_size=0.2,random_state=101)"
   ]
  },
  {
   "cell_type": "markdown",
   "metadata": {},
   "source": [
    "The best model for that task is xgboost, since it an ensamble method it uses many trees with the same data.\n",
    "In our case, we have small dataset."
   ]
  },
  {
   "cell_type": "code",
   "execution_count": 25,
   "metadata": {},
   "outputs": [],
   "source": [
    "model = xgboost.XGBClassifier()\n",
    "model.fit(X_train, y_train)\n",
    "predictions = model.predict(X_test)"
   ]
  },
  {
   "cell_type": "code",
   "execution_count": 26,
   "metadata": {},
   "outputs": [
    {
     "name": "stdout",
     "output_type": "stream",
     "text": [
      "Accuracy: 84.90% \n",
      "\n",
      "confusion matrix\n",
      "\n",
      "[[202  11   4]\n",
      " [ 39  18   0]\n",
      " [  3   1 106]]\n",
      "              precision    recall  f1-score   support\n",
      "\n",
      "           0       0.83      0.93      0.88       217\n",
      "           1       0.60      0.32      0.41        57\n",
      "           2       0.96      0.96      0.96       110\n",
      "\n",
      "    accuracy                           0.85       384\n",
      "   macro avg       0.80      0.74      0.75       384\n",
      "weighted avg       0.83      0.85      0.83       384\n",
      "\n"
     ]
    }
   ],
   "source": [
    "conf_mat, class_report, accuracy = get_report(y_test, predictions)\n",
    "\n",
    "print(\"Accuracy: %.2f%% \\n\" % (accuracy * 100.0))\n",
    "print('confusion matrix\\n')\n",
    "print(conf_mat)\n",
    "print(class_report)"
   ]
  },
  {
   "cell_type": "code",
   "execution_count": 27,
   "metadata": {},
   "outputs": [
    {
     "data": {
      "image/png": "[encoded data removed]",
      "text/plain": [
       "<Figure size 432x288 with 2 Axes>"
      ]
     },
     "metadata": {
      "needs_background": "light"
     },
     "output_type": "display_data"
    }
   ],
   "source": [
    "plot_confusion(y_test, predictions)"
   ]
  },
  {
   "cell_type": "markdown",
   "metadata": {},
   "source": [
    "# Now lets use only Textual features"
   ]
  },
  {
   "cell_type": "code",
   "execution_count": 31,
   "metadata": {},
   "outputs": [],
   "source": [
    "tin_data = get_textual_feat(df_final)\n",
    "X_train, X_test, y_train, y_test = train_test_split(tin_data, target,test_size=0.2,random_state=101)"
   ]
  },
  {
   "cell_type": "code",
   "execution_count": 32,
   "metadata": {},
   "outputs": [],
   "source": [
    "model = xgboost.XGBClassifier()\n",
    "model.fit(X_train, y_train)\n",
    "predictions = model.predict(X_test)"
   ]
  },
  {
   "cell_type": "code",
   "execution_count": 33,
   "metadata": {},
   "outputs": [
    {
     "name": "stdout",
     "output_type": "stream",
     "text": [
      "Accuracy: 73.18% \n",
      "\n",
      "confusion matrix\n",
      "\n",
      "[[204   0  13]\n",
      " [ 51   1   5]\n",
      " [ 34   0  76]]\n",
      "              precision    recall  f1-score   support\n",
      "\n",
      "           0       0.71      0.94      0.81       217\n",
      "           1       1.00      0.02      0.03        57\n",
      "           2       0.81      0.69      0.75       110\n",
      "\n",
      "    accuracy                           0.73       384\n",
      "   macro avg       0.84      0.55      0.53       384\n",
      "weighted avg       0.78      0.73      0.67       384\n",
      "\n"
     ]
    }
   ],
   "source": [
    "conf_mat, class_report, accuracy = get_report(y_test, predictions)\n",
    "\n",
    "print(\"Accuracy: %.2f%% \\n\" % (accuracy * 100.0))\n",
    "print('confusion matrix\\n')\n",
    "print(conf_mat)\n",
    "print(class_report)"
   ]
  },
  {
   "cell_type": "code",
   "execution_count": 34,
   "metadata": {},
   "outputs": [
    {
     "data": {
      "image/png": "[encoded data removed]",
      "text/plain": [
       "<Figure size 432x288 with 2 Axes>"
      ]
     },
     "metadata": {
      "needs_background": "light"
     },
     "output_type": "display_data"
    }
   ],
   "source": [
    "plot_confusion(y_test, predictions)"
   ]
  },
  {
   "cell_type": "markdown",
   "metadata": {},
   "source": [
    "# All features "
   ]
  },
  {
   "cell_type": "code",
   "execution_count": 35,
   "metadata": {},
   "outputs": [],
   "source": [
    "all_data = np.concatenate((in_data, tin_data), axis=1)\n",
    "X_train, X_test, y_train, y_test = train_test_split(all_data, target,test_size=0.2,random_state=101)"
   ]
  },
  {
   "cell_type": "code",
   "execution_count": 36,
   "metadata": {},
   "outputs": [],
   "source": [
    "model = xgboost.XGBClassifier()\n",
    "model.fit(X_train, y_train)\n",
    "predictions = model.predict(X_test)"
   ]
  },
  {
   "cell_type": "code",
   "execution_count": 37,
   "metadata": {},
   "outputs": [
    {
     "name": "stdout",
     "output_type": "stream",
     "text": [
      "Accuracy: 85.42% \n",
      "\n",
      "confusion matrix\n",
      "\n",
      "[[205   9   3]\n",
      " [ 42  15   0]\n",
      " [  2   0 108]]\n",
      "              precision    recall  f1-score   support\n",
      "\n",
      "           0       0.82      0.94      0.88       217\n",
      "           1       0.62      0.26      0.37        57\n",
      "           2       0.97      0.98      0.98       110\n",
      "\n",
      "    accuracy                           0.85       384\n",
      "   macro avg       0.81      0.73      0.74       384\n",
      "weighted avg       0.84      0.85      0.83       384\n",
      "\n"
     ]
    }
   ],
   "source": [
    "conf_mat, class_report, accuracy = get_report(y_test, predictions)\n",
    "\n",
    "print(\"Accuracy: %.2f%% \\n\" % (accuracy * 100.0))\n",
    "print('confusion matrix\\n')\n",
    "print(conf_mat)\n",
    "print(class_report)"
   ]
  },
  {
   "cell_type": "code",
   "execution_count": 38,
   "metadata": {},
   "outputs": [
    {
     "data": {
      "image/png": "[encoded data removed]",
      "text/plain": [
       "<Figure size 432x288 with 2 Axes>"
      ]
     },
     "metadata": {
      "needs_background": "light"
     },
     "output_type": "display_data"
    }
   ],
   "source": [
    "plot_confusion(y_test, predictions)"
   ]
  },
  {
   "cell_type": "markdown",
   "metadata": {},
   "source": [
    "# Winning model with 85.42%% accuracy!!!"
   ]
  }
 ],
 "metadata": {
  "kernelspec": {
   "display_name": "Python 3",
   "language": "python",
   "name": "python3"
  },
  "language_info": {
   "codemirror_mode": {
    "name": "ipython",
    "version": 3
   },
   "file_extension": ".py",
   "mimetype": "text/x-python",
   "name": "python",
   "nbconvert_exporter": "python",
   "pygments_lexer": "ipython3",
   "version": "3.6.10"
  }
 },
 "nbformat": 4,
 "nbformat_minor": 2
}
